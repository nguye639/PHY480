{
 "cells": [
  {
   "cell_type": "code",
   "execution_count": 2,
   "metadata": {},
   "outputs": [],
   "source": [
    "import math\n",
    "import matplotlib.pyplot as plt\n",
    "import numpy as np"
   ]
  },
  {
   "cell_type": "code",
   "execution_count": 3,
   "metadata": {},
   "outputs": [],
   "source": [
    "b = 200/3 #g/s"
   ]
  },
  {
   "cell_type": "code",
   "execution_count": 4,
   "metadata": {},
   "outputs": [],
   "source": [
    "fund = 2\n",
    "omega0 = fund*2*np.pi\n"
   ]
  },
  {
   "cell_type": "code",
   "execution_count": 24,
   "metadata": {},
   "outputs": [
    {
     "data": {
      "text/plain": [
       "array([ 0.00000000e+000,  0.00000000e+000, -2.30537600e+000,\n",
       "       -6.19070541e+002, -6.11567861e+004, -2.22257163e+006,\n",
       "       -2.97149719e+007, -1.46153211e+008, -2.64465211e+008,\n",
       "       -1.76073122e+008, -4.31402720e+007, -3.89235122e+006,\n",
       "       -1.29545435e+005, -1.59773659e+003, -7.39103548e+000,\n",
       "       -1.32166372e-002, -9.76133619e-006, -3.32374569e-009,\n",
       "       -5.83885433e-013, -5.65836083e-017, -3.14550138e-021,\n",
       "       -1.02577811e-025, -1.98902103e-030, -2.31114798e-035,\n",
       "       -1.61714311e-040, -6.83259197e-046, -1.74642772e-051,\n",
       "       -2.70295984e-057, -2.53505054e-063, -1.44111998e-069,\n",
       "       -4.96752046e-076, -1.03826522e-082, -1.31613808e-089,\n",
       "       -1.01177400e-096, -4.71765643e-104, -1.33407428e-111,\n",
       "       -2.28827264e-119, -2.38042512e-127, -1.50203564e-135,\n",
       "       -5.74814783e-144, -1.33430889e-152, -1.87848573e-161,\n",
       "       -1.60413475e-170, -8.30801487e-180, -2.60996902e-189,\n",
       "       -4.97275498e-199, -5.74699114e-209, -4.02816889e-219,\n",
       "       -1.71260262e-229, -4.41600173e-240, -6.90690795e-251,\n",
       "       -6.55181770e-262, -3.76982985e-273, -1.31554407e-284,\n",
       "       -2.78465156e-296, -3.57486814e-308, -2.78356585e-320,\n",
       "       -0.00000000e+000, -0.00000000e+000,  0.00000000e+000,\n",
       "        0.00000000e+000,  0.00000000e+000,  0.00000000e+000,\n",
       "        0.00000000e+000,  0.00000000e+000,  0.00000000e+000,\n",
       "        0.00000000e+000,  0.00000000e+000,  0.00000000e+000,\n",
       "        0.00000000e+000,  0.00000000e+000,  0.00000000e+000,\n",
       "        0.00000000e+000,  0.00000000e+000,  0.00000000e+000,\n",
       "        0.00000000e+000,  0.00000000e+000,  0.00000000e+000,\n",
       "        0.00000000e+000,  0.00000000e+000,  0.00000000e+000,\n",
       "        0.00000000e+000,  0.00000000e+000,  0.00000000e+000,\n",
       "        0.00000000e+000,  0.00000000e+000,  0.00000000e+000,\n",
       "        0.00000000e+000,  0.00000000e+000,  0.00000000e+000,\n",
       "        0.00000000e+000,  0.00000000e+000,  0.00000000e+000,\n",
       "        0.00000000e+000,  0.00000000e+000,  0.00000000e+000,\n",
       "        0.00000000e+000,  0.00000000e+000,  0.00000000e+000,\n",
       "        0.00000000e+000,  0.00000000e+000])"
      ]
     },
     "execution_count": 24,
     "metadata": {},
     "output_type": "execute_result"
    }
   ],
   "source": [
    "def f(t,omega):\n",
    "    if t > -2 and t < 0:\n",
    "        f0 = 50\n",
    "    else:\n",
    "        f0 = 0\n",
    "    m = 0.1\n",
    "    k = (omega0**2)*m\n",
    "    omega = np.sqrt(k/m)\n",
    "    return f0*np.sin(omega*t)\n",
    "\n",
    "NTsteps = 100\n",
    "x = np.zeros(NTsteps+1)\n",
    "dt =.01\n",
    "m = 0.1\n",
    "k = (omega0**2)*m\n",
    "omega = np.sqrt(k/m)\n",
    "v0 = 0\n",
    "x[0] =0.0\n",
    "x[1] =(v0*dt)-(0.5*b*v0/m)\n",
    "it =1\n",
    "\n",
    "while it < NTsteps:\n",
    "    t = -2 +it\n",
    "    Force = f(t*dt,omega)\n",
    "    x[it+1] = (((2.0*m/(dt**2))-k)*x[it] + Force + ((0.5*b/dt)*x[it-1])/((m/(dt**2))+(0.5*b/dt)))*np.exp(-it)\n",
    "    it= it+1\n",
    "x"
   ]
  },
  {
   "cell_type": "code",
   "execution_count": 25,
   "metadata": {},
   "outputs": [
    {
     "data": {
      "text/plain": [
       "[<matplotlib.lines.Line2D at 0x11a896240>]"
      ]
     },
     "execution_count": 25,
     "metadata": {},
     "output_type": "execute_result"
    },
    {
     "data": {
      "image/png": "[encoded data removed]",
      "text/plain": [
       "<Figure size 432x288 with 1 Axes>"
      ]
     },
     "metadata": {},
     "output_type": "display_data"
    }
   ],
   "source": [
    "plt.plot(r,x)"
   ]
  },
  {
   "cell_type": "code",
   "execution_count": null,
   "metadata": {},
   "outputs": [],
   "source": []
  }
 ],
 "metadata": {
  "kernelspec": {
   "display_name": "Python 3",
   "language": "python",
   "name": "python3"
  },
  "language_info": {
   "codemirror_mode": {
    "name": "ipython",
    "version": 3
   },
   "file_extension": ".py",
   "mimetype": "text/x-python",
   "name": "python",
   "nbconvert_exporter": "python",
   "pygments_lexer": "ipython3",
   "version": "3.6.5"
  }
 },
 "nbformat": 4,
 "nbformat_minor": 2
}
